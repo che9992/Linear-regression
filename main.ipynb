{
 "cells": [
  {
   "cell_type": "markdown",
   "metadata": {},
   "source": [
    "# Linear regression from kaggle\n",
    "<hr/>"
   ]
  },
  {
   "cell_type": "code",
   "execution_count": 18,
   "metadata": {},
   "outputs": [],
   "source": [
    "import numpy as np\n",
    "import pandas as pd\n",
    "import matplotlib.pyplot as plt\n",
    "import tensorflow as tf "
   ]
  },
  {
   "cell_type": "code",
   "execution_count": 19,
   "metadata": {},
   "outputs": [
    {
     "name": "stdout",
     "output_type": "stream",
     "text": [
      "      x          y\n",
      "0  24.0  21.549452\n",
      "1  50.0  47.464463\n",
      "2  15.0  17.218656\n",
      "3  38.0  36.586398\n",
      "4  87.0  87.288984 \n",
      " infor: (699, 2) Index(['x', 'y'], dtype='object')\n"
     ]
    }
   ],
   "source": [
    "# import train data and drop na data in the data, get some basig informations\n",
    "train = pd.read_csv('train.csv').dropna()\n",
    "print(train.head(), '\\n infor:', train.shape, train.columns)"
   ]
  },
  {
   "cell_type": "code",
   "execution_count": 26,
   "metadata": {},
   "outputs": [
    {
     "data": {
      "text/plain": [
       "<matplotlib.collections.PathCollection at 0x11a50ea90>"
      ]
     },
     "execution_count": 26,
     "metadata": {},
     "output_type": "execute_result"
    },
    {
     "data": {
      "image/png": "[encoded data removed]",
      "text/plain": [
       "<Figure size 432x288 with 1 Axes>"
      ]
     },
     "metadata": {},
     "output_type": "display_data"
    }
   ],
   "source": [
    "# check the train data to graph using plt \n",
    "# looks like good to use linear regression \n",
    "plt.scatter(train.x, train['y'], marker='.', color='blue')"
   ]
  },
  {
   "cell_type": "markdown",
   "metadata": {},
   "source": [
    "## \\\\(Hypothesis =  y = Wx + b\\\\)\n",
    "### using random numbers to W and b, between 1 and 10"
   ]
  },
  {
   "cell_type": "code",
   "execution_count": 139,
   "metadata": {},
   "outputs": [],
   "source": [
    "a = True\n",
    "while a:\n",
    "    W = np.random.choice(11,1)\n",
    "    b = np.random.choice(11,1)\n",
    "    \n",
    "    # we don't want W or b is zero \n",
    "    if W and b != 0:\n",
    "        a = False"
   ]
  },
  {
   "cell_type": "code",
   "execution_count": null,
   "metadata": {},
   "outputs": [],
   "source": [
    "# change train data to matrix\n",
    "data = train.as_matrix()\n",
    "data.shape"
   ]
  },
  {
   "cell_type": "markdown",
   "metadata": {},
   "source": [
    "## \\\\( cost(W,b) = \\frac{1}{m}\\sum_{i=1}^{m} (H(x^i) - y^i)^2 \\\\)\n"
   ]
  },
  {
   "cell_type": "code",
   "execution_count": 160,
   "metadata": {},
   "outputs": [],
   "source": [
    "def getcost(W,b,data):\n",
    "    cost = 0\n",
    "    for i in range(len(data)):\n",
    "        x = data[i,0]\n",
    "        y = data[i,1]\n",
    "        hypothesis = W*x + b\n",
    "        cost += (hypothesis - y) ** 2\n",
    "    \n",
    "    cost = cost / i+1\n",
    "    #print(i+1)\n",
    "    return cost"
   ]
  },
  {
   "cell_type": "code",
   "execution_count": 158,
   "metadata": {},
   "outputs": [
    {
     "name": "stdout",
     "output_type": "stream",
     "text": [
      "cost: [3775.92889224] \n",
      "W: [2] \n",
      "b: [4]\n"
     ]
    }
   ],
   "source": [
    "cost = getcost(W,b,data)\n",
    "print('cost:', cost, '\\nW:', W, '\\nb:', b)"
   ]
  },
  {
   "cell_type": "code",
   "execution_count": 156,
   "metadata": {
    "scrolled": true
   },
   "outputs": [
    {
     "data": {
      "text/plain": [
       "[<matplotlib.lines.Line2D at 0x1264aa6d8>]"
      ]
     },
     "execution_count": 156,
     "metadata": {},
     "output_type": "execute_result"
    },
    {
     "data": {
      "image/png": "[encoded data removed]",
      "text/plain": [
       "<Figure size 432x288 with 1 Axes>"
      ]
     },
     "metadata": {},
     "output_type": "display_data"
    }
   ],
   "source": [
    "# check hypothesis and origin train data \n",
    "plt.scatter(train.x, train.y, marker='.')\n",
    "plt.plot(train.x, W * train.x + b, color='red')"
   ]
  },
  {
   "cell_type": "markdown",
   "metadata": {},
   "source": [
    "## \\\\( cost(W,b) = \\frac{1}{2m}\\sum_{i=1}^{m} (H(x^i) - y^i)^2 \\\\)\n"
   ]
  },
  {
   "cell_type": "code",
   "execution_count": 195,
   "metadata": {},
   "outputs": [],
   "source": [
    "# get gradient descent using differential\n",
    "\n",
    "def gradient_descent(W,b,data,learning_rate):\n",
    "    W_gradient = 0\n",
    "    b_gradient = 0\n",
    "\n",
    "    for i in range(len(data)):\n",
    "        x = data[i,0]\n",
    "        y = data[i,1]\n",
    "        \n",
    "        hypothesis = W * x + b\n",
    "        \n",
    "        W_gradient += (2/len(data)) * (x) * (hypothesis - y)\n",
    "        b_gradient += (2/len(data)) * (hypothesis - y)\n",
    "        \n",
    "    new_W = W - (W_gradient * learning_rate)\n",
    "    new_b = b - (b_gradient * learning_rate)\n",
    "    return new_W, new_b    \n",
    "    "
   ]
  },
  {
   "cell_type": "code",
   "execution_count": 204,
   "metadata": {},
   "outputs": [],
   "source": [
    "nw,nb = gradient_descent(W,b,data,learning_rate=0.0001)"
   ]
  },
  {
   "cell_type": "code",
   "execution_count": 205,
   "metadata": {},
   "outputs": [
    {
     "data": {
      "text/plain": [
       "array([428.16428124])"
      ]
     },
     "execution_count": 205,
     "metadata": {},
     "output_type": "execute_result"
    }
   ],
   "source": [
    "getcost(nw,nb,data)"
   ]
  },
  {
   "cell_type": "code",
   "execution_count": 206,
   "metadata": {},
   "outputs": [
    {
     "name": "stdout",
     "output_type": "stream",
     "text": [
      "0.95    3.59    12.32\n"
     ]
    }
   ],
   "source": [
    "tem_W = W\n",
    "tem_b = b\n",
    "for i in range(2000):\n",
    "    tem_W, tem_b = gradient_descent(tem_W, tem_b, data, learning_rate=0.0001)\n",
    "    \n",
    "print('%.2f    %.2f    %.2f' %(tem_W,tem_b,getcost(tem_W,tem_b,data)))"
   ]
  },
  {
   "cell_type": "code",
   "execution_count": 225,
   "metadata": {},
   "outputs": [
    {
     "data": {
      "text/plain": [
       "[<matplotlib.lines.Line2D at 0x12e6bc550>]"
      ]
     },
     "execution_count": 225,
     "metadata": {},
     "output_type": "execute_result"
    },
    {
     "data": {
      "image/png": "[encoded data removed]",
      "text/plain": [
       "<Figure size 720x576 with 1 Axes>"
      ]
     },
     "metadata": {},
     "output_type": "display_data"
    }
   ],
   "source": [
    "plt.figure(figsize=(10,8))\n",
    "\n",
    "# origin train data\n",
    "plt.scatter(train.x.values,train.y.values,marker=\".\")\n",
    "\n",
    "# using first W, b values\n",
    "plt.plot(train.x, (W * train.x) + b, color =\"red\",)\n",
    "\n",
    "# after gradient descent\n",
    "plt.plot(train.x,(tem_W * train.x) + tem_b, color =\"green\",linewidth='4')"
   ]
  },
  {
   "cell_type": "code",
   "execution_count": null,
   "metadata": {},
   "outputs": [],
   "source": []
  }
 ],
 "metadata": {
  "kernelspec": {
   "display_name": "Python 3",
   "language": "python",
   "name": "python3"
  },
  "language_info": {
   "codemirror_mode": {
    "name": "ipython",
    "version": 3
   },
   "file_extension": ".py",
   "mimetype": "text/x-python",
   "name": "python",
   "nbconvert_exporter": "python",
   "pygments_lexer": "ipython3",
   "version": "3.6.4"
  }
 },
 "nbformat": 4,
 "nbformat_minor": 2
}
